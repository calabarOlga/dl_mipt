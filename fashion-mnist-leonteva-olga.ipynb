{
 "cells": [
  {
   "cell_type": "code",
   "execution_count": 1,
   "metadata": {
    "execution": {
     "iopub.execute_input": "2023-05-18T23:13:39.642692Z",
     "iopub.status.busy": "2023-05-18T23:13:39.642275Z",
     "iopub.status.idle": "2023-05-18T23:13:39.646990Z",
     "shell.execute_reply": "2023-05-18T23:13:39.646270Z"
    },
    "papermill": {
     "duration": 0.019941,
     "end_time": "2023-05-18T23:13:39.650309",
     "exception": false,
     "start_time": "2023-05-18T23:13:39.630368",
     "status": "completed"
    },
    "tags": []
   },
   "outputs": [],
   "source": [
    "#!pip install tensorflow"
   ]
  },
  {
   "cell_type": "code",
   "execution_count": 2,
   "metadata": {
    "execution": {
     "iopub.execute_input": "2023-05-18T23:13:39.669854Z",
     "iopub.status.busy": "2023-05-18T23:13:39.669134Z",
     "iopub.status.idle": "2023-05-18T23:13:51.848851Z",
     "shell.execute_reply": "2023-05-18T23:13:51.847467Z"
    },
    "papermill": {
     "duration": 12.192572,
     "end_time": "2023-05-18T23:13:51.851879",
     "exception": false,
     "start_time": "2023-05-18T23:13:39.659307",
     "status": "completed"
    },
    "tags": []
   },
   "outputs": [
    {
     "name": "stderr",
     "output_type": "stream",
     "text": [
      "/opt/conda/lib/python3.10/site-packages/scipy/__init__.py:146: UserWarning: A NumPy version >=1.16.5 and <1.23.0 is required for this version of SciPy (detected version 1.23.5\n",
      "  warnings.warn(f\"A NumPy version >={np_minversion} and <{np_maxversion}\"\n"
     ]
    }
   ],
   "source": [
    "# Импорт библиотек\n",
    "import numpy as np\n",
    "import pandas as pd\n",
    "import tensorflow as tf\n",
    "from tensorflow.keras.models import Sequential\n",
    "from tensorflow.keras.layers import Conv2D, MaxPooling2D, Flatten, Dense, Dropout, BatchNormalization\n",
    "from tensorflow.keras import backend as K\n",
    "import matplotlib.pyplot as plt\n",
    "import seaborn as sns\n",
    "from sklearn.model_selection import train_test_split"
   ]
  },
  {
   "cell_type": "code",
   "execution_count": 3,
   "metadata": {
    "execution": {
     "iopub.execute_input": "2023-05-18T23:13:51.871934Z",
     "iopub.status.busy": "2023-05-18T23:13:51.870223Z",
     "iopub.status.idle": "2023-05-18T23:13:51.879493Z",
     "shell.execute_reply": "2023-05-18T23:13:51.877006Z"
    },
    "papermill": {
     "duration": 0.0227,
     "end_time": "2023-05-18T23:13:51.882617",
     "exception": false,
     "start_time": "2023-05-18T23:13:51.859917",
     "status": "completed"
    },
    "tags": []
   },
   "outputs": [],
   "source": [
    "# Константы\n",
    "IMG_WIDTH, IMG_HEIGHT = 28, 28\n",
    "BATCH_SIZE = 64\n",
    "EPOCHS = 25\n",
    "NUM_CLASSES = 10\n",
    "SEED = 42\n",
    "VALIDATION_SPLIT = 0.2"
   ]
  },
  {
   "cell_type": "code",
   "execution_count": 4,
   "metadata": {
    "execution": {
     "iopub.execute_input": "2023-05-18T23:13:51.900580Z",
     "iopub.status.busy": "2023-05-18T23:13:51.900136Z",
     "iopub.status.idle": "2023-05-18T23:13:53.560020Z",
     "shell.execute_reply": "2023-05-18T23:13:53.557962Z"
    },
    "papermill": {
     "duration": 1.672499,
     "end_time": "2023-05-18T23:13:53.562847",
     "exception": false,
     "start_time": "2023-05-18T23:13:51.890348",
     "status": "completed"
    },
    "tags": []
   },
   "outputs": [],
   "source": [
    "# Чтение и запись в датафрейм датасета для обучения\n",
    "train_df = pd.read_csv('../input/mds-mipt-dl-test-final/fmnist_train.csv')"
   ]
  },
  {
   "cell_type": "code",
   "execution_count": 5,
   "metadata": {
    "execution": {
     "iopub.execute_input": "2023-05-18T23:13:53.578443Z",
     "iopub.status.busy": "2023-05-18T23:13:53.578068Z",
     "iopub.status.idle": "2023-05-18T23:13:55.446607Z",
     "shell.execute_reply": "2023-05-18T23:13:55.444592Z"
    },
    "papermill": {
     "duration": 1.880078,
     "end_time": "2023-05-18T23:13:55.449857",
     "exception": false,
     "start_time": "2023-05-18T23:13:53.569779",
     "status": "completed"
    },
    "tags": []
   },
   "outputs": [
    {
     "data": {
      "text/html": [
       "<div>\n",
       "<style scoped>\n",
       "    .dataframe tbody tr th:only-of-type {\n",
       "        vertical-align: middle;\n",
       "    }\n",
       "\n",
       "    .dataframe tbody tr th {\n",
       "        vertical-align: top;\n",
       "    }\n",
       "\n",
       "    .dataframe thead th {\n",
       "        text-align: right;\n",
       "    }\n",
       "</style>\n",
       "<table border=\"1\" class=\"dataframe\">\n",
       "  <thead>\n",
       "    <tr style=\"text-align: right;\">\n",
       "      <th></th>\n",
       "      <th>label</th>\n",
       "      <th>pixel1</th>\n",
       "      <th>pixel2</th>\n",
       "      <th>pixel3</th>\n",
       "      <th>pixel4</th>\n",
       "      <th>pixel5</th>\n",
       "      <th>pixel6</th>\n",
       "      <th>pixel7</th>\n",
       "      <th>pixel8</th>\n",
       "      <th>pixel9</th>\n",
       "      <th>...</th>\n",
       "      <th>pixel776</th>\n",
       "      <th>pixel777</th>\n",
       "      <th>pixel778</th>\n",
       "      <th>pixel779</th>\n",
       "      <th>pixel780</th>\n",
       "      <th>pixel781</th>\n",
       "      <th>pixel782</th>\n",
       "      <th>pixel783</th>\n",
       "      <th>pixel784</th>\n",
       "      <th>Id</th>\n",
       "    </tr>\n",
       "  </thead>\n",
       "  <tbody>\n",
       "    <tr>\n",
       "      <th>count</th>\n",
       "      <td>17040.000000</td>\n",
       "      <td>17040.000000</td>\n",
       "      <td>17040.000000</td>\n",
       "      <td>17040.000000</td>\n",
       "      <td>17040.000000</td>\n",
       "      <td>17040.000000</td>\n",
       "      <td>17040.000000</td>\n",
       "      <td>17040.000000</td>\n",
       "      <td>17040.000000</td>\n",
       "      <td>17040.000000</td>\n",
       "      <td>...</td>\n",
       "      <td>17039.000000</td>\n",
       "      <td>17039.000000</td>\n",
       "      <td>17039.000000</td>\n",
       "      <td>17039.000000</td>\n",
       "      <td>17039.000000</td>\n",
       "      <td>17039.000000</td>\n",
       "      <td>17039.000000</td>\n",
       "      <td>17039.000000</td>\n",
       "      <td>17039.000000</td>\n",
       "      <td>17040.000000</td>\n",
       "    </tr>\n",
       "    <tr>\n",
       "      <th>mean</th>\n",
       "      <td>4.486913</td>\n",
       "      <td>0.002347</td>\n",
       "      <td>0.005869</td>\n",
       "      <td>0.028991</td>\n",
       "      <td>0.114495</td>\n",
       "      <td>0.233275</td>\n",
       "      <td>0.372946</td>\n",
       "      <td>0.725352</td>\n",
       "      <td>2.167077</td>\n",
       "      <td>5.751995</td>\n",
       "      <td>...</td>\n",
       "      <td>23.532308</td>\n",
       "      <td>16.799519</td>\n",
       "      <td>17.331886</td>\n",
       "      <td>22.342332</td>\n",
       "      <td>17.985328</td>\n",
       "      <td>8.849111</td>\n",
       "      <td>2.964435</td>\n",
       "      <td>0.961265</td>\n",
       "      <td>0.088738</td>\n",
       "      <td>8519.500000</td>\n",
       "    </tr>\n",
       "    <tr>\n",
       "      <th>std</th>\n",
       "      <td>2.881984</td>\n",
       "      <td>0.172991</td>\n",
       "      <td>0.209439</td>\n",
       "      <td>0.621885</td>\n",
       "      <td>2.630319</td>\n",
       "      <td>4.060619</td>\n",
       "      <td>5.337305</td>\n",
       "      <td>7.395038</td>\n",
       "      <td>13.906113</td>\n",
       "      <td>24.238699</td>\n",
       "      <td>...</td>\n",
       "      <td>48.730232</td>\n",
       "      <td>41.825340</td>\n",
       "      <td>43.064804</td>\n",
       "      <td>51.111173</td>\n",
       "      <td>45.379001</td>\n",
       "      <td>30.228846</td>\n",
       "      <td>18.003959</td>\n",
       "      <td>9.866697</td>\n",
       "      <td>2.342414</td>\n",
       "      <td>4919.168629</td>\n",
       "    </tr>\n",
       "    <tr>\n",
       "      <th>min</th>\n",
       "      <td>0.000000</td>\n",
       "      <td>0.000000</td>\n",
       "      <td>0.000000</td>\n",
       "      <td>0.000000</td>\n",
       "      <td>0.000000</td>\n",
       "      <td>0.000000</td>\n",
       "      <td>0.000000</td>\n",
       "      <td>0.000000</td>\n",
       "      <td>0.000000</td>\n",
       "      <td>0.000000</td>\n",
       "      <td>...</td>\n",
       "      <td>0.000000</td>\n",
       "      <td>0.000000</td>\n",
       "      <td>0.000000</td>\n",
       "      <td>0.000000</td>\n",
       "      <td>0.000000</td>\n",
       "      <td>0.000000</td>\n",
       "      <td>0.000000</td>\n",
       "      <td>0.000000</td>\n",
       "      <td>0.000000</td>\n",
       "      <td>0.000000</td>\n",
       "    </tr>\n",
       "    <tr>\n",
       "      <th>25%</th>\n",
       "      <td>2.000000</td>\n",
       "      <td>0.000000</td>\n",
       "      <td>0.000000</td>\n",
       "      <td>0.000000</td>\n",
       "      <td>0.000000</td>\n",
       "      <td>0.000000</td>\n",
       "      <td>0.000000</td>\n",
       "      <td>0.000000</td>\n",
       "      <td>0.000000</td>\n",
       "      <td>0.000000</td>\n",
       "      <td>...</td>\n",
       "      <td>0.000000</td>\n",
       "      <td>0.000000</td>\n",
       "      <td>0.000000</td>\n",
       "      <td>0.000000</td>\n",
       "      <td>0.000000</td>\n",
       "      <td>0.000000</td>\n",
       "      <td>0.000000</td>\n",
       "      <td>0.000000</td>\n",
       "      <td>0.000000</td>\n",
       "      <td>4259.750000</td>\n",
       "    </tr>\n",
       "    <tr>\n",
       "      <th>50%</th>\n",
       "      <td>5.000000</td>\n",
       "      <td>0.000000</td>\n",
       "      <td>0.000000</td>\n",
       "      <td>0.000000</td>\n",
       "      <td>0.000000</td>\n",
       "      <td>0.000000</td>\n",
       "      <td>0.000000</td>\n",
       "      <td>0.000000</td>\n",
       "      <td>0.000000</td>\n",
       "      <td>0.000000</td>\n",
       "      <td>...</td>\n",
       "      <td>0.000000</td>\n",
       "      <td>0.000000</td>\n",
       "      <td>0.000000</td>\n",
       "      <td>0.000000</td>\n",
       "      <td>0.000000</td>\n",
       "      <td>0.000000</td>\n",
       "      <td>0.000000</td>\n",
       "      <td>0.000000</td>\n",
       "      <td>0.000000</td>\n",
       "      <td>8519.500000</td>\n",
       "    </tr>\n",
       "    <tr>\n",
       "      <th>75%</th>\n",
       "      <td>7.000000</td>\n",
       "      <td>0.000000</td>\n",
       "      <td>0.000000</td>\n",
       "      <td>0.000000</td>\n",
       "      <td>0.000000</td>\n",
       "      <td>0.000000</td>\n",
       "      <td>0.000000</td>\n",
       "      <td>0.000000</td>\n",
       "      <td>0.000000</td>\n",
       "      <td>0.000000</td>\n",
       "      <td>...</td>\n",
       "      <td>11.000000</td>\n",
       "      <td>0.000000</td>\n",
       "      <td>0.000000</td>\n",
       "      <td>0.000000</td>\n",
       "      <td>0.000000</td>\n",
       "      <td>0.000000</td>\n",
       "      <td>0.000000</td>\n",
       "      <td>0.000000</td>\n",
       "      <td>0.000000</td>\n",
       "      <td>12779.250000</td>\n",
       "    </tr>\n",
       "    <tr>\n",
       "      <th>max</th>\n",
       "      <td>9.000000</td>\n",
       "      <td>16.000000</td>\n",
       "      <td>16.000000</td>\n",
       "      <td>56.000000</td>\n",
       "      <td>164.000000</td>\n",
       "      <td>217.000000</td>\n",
       "      <td>230.000000</td>\n",
       "      <td>213.000000</td>\n",
       "      <td>218.000000</td>\n",
       "      <td>254.000000</td>\n",
       "      <td>...</td>\n",
       "      <td>255.000000</td>\n",
       "      <td>254.000000</td>\n",
       "      <td>255.000000</td>\n",
       "      <td>252.000000</td>\n",
       "      <td>255.000000</td>\n",
       "      <td>250.000000</td>\n",
       "      <td>255.000000</td>\n",
       "      <td>255.000000</td>\n",
       "      <td>170.000000</td>\n",
       "      <td>17039.000000</td>\n",
       "    </tr>\n",
       "  </tbody>\n",
       "</table>\n",
       "<p>8 rows × 786 columns</p>\n",
       "</div>"
      ],
      "text/plain": [
       "              label        pixel1        pixel2        pixel3        pixel4  \\\n",
       "count  17040.000000  17040.000000  17040.000000  17040.000000  17040.000000   \n",
       "mean       4.486913      0.002347      0.005869      0.028991      0.114495   \n",
       "std        2.881984      0.172991      0.209439      0.621885      2.630319   \n",
       "min        0.000000      0.000000      0.000000      0.000000      0.000000   \n",
       "25%        2.000000      0.000000      0.000000      0.000000      0.000000   \n",
       "50%        5.000000      0.000000      0.000000      0.000000      0.000000   \n",
       "75%        7.000000      0.000000      0.000000      0.000000      0.000000   \n",
       "max        9.000000     16.000000     16.000000     56.000000    164.000000   \n",
       "\n",
       "             pixel5        pixel6        pixel7        pixel8        pixel9  \\\n",
       "count  17040.000000  17040.000000  17040.000000  17040.000000  17040.000000   \n",
       "mean       0.233275      0.372946      0.725352      2.167077      5.751995   \n",
       "std        4.060619      5.337305      7.395038     13.906113     24.238699   \n",
       "min        0.000000      0.000000      0.000000      0.000000      0.000000   \n",
       "25%        0.000000      0.000000      0.000000      0.000000      0.000000   \n",
       "50%        0.000000      0.000000      0.000000      0.000000      0.000000   \n",
       "75%        0.000000      0.000000      0.000000      0.000000      0.000000   \n",
       "max      217.000000    230.000000    213.000000    218.000000    254.000000   \n",
       "\n",
       "       ...      pixel776      pixel777      pixel778      pixel779  \\\n",
       "count  ...  17039.000000  17039.000000  17039.000000  17039.000000   \n",
       "mean   ...     23.532308     16.799519     17.331886     22.342332   \n",
       "std    ...     48.730232     41.825340     43.064804     51.111173   \n",
       "min    ...      0.000000      0.000000      0.000000      0.000000   \n",
       "25%    ...      0.000000      0.000000      0.000000      0.000000   \n",
       "50%    ...      0.000000      0.000000      0.000000      0.000000   \n",
       "75%    ...     11.000000      0.000000      0.000000      0.000000   \n",
       "max    ...    255.000000    254.000000    255.000000    252.000000   \n",
       "\n",
       "           pixel780      pixel781      pixel782      pixel783      pixel784  \\\n",
       "count  17039.000000  17039.000000  17039.000000  17039.000000  17039.000000   \n",
       "mean      17.985328      8.849111      2.964435      0.961265      0.088738   \n",
       "std       45.379001     30.228846     18.003959      9.866697      2.342414   \n",
       "min        0.000000      0.000000      0.000000      0.000000      0.000000   \n",
       "25%        0.000000      0.000000      0.000000      0.000000      0.000000   \n",
       "50%        0.000000      0.000000      0.000000      0.000000      0.000000   \n",
       "75%        0.000000      0.000000      0.000000      0.000000      0.000000   \n",
       "max      255.000000    250.000000    255.000000    255.000000    170.000000   \n",
       "\n",
       "                 Id  \n",
       "count  17040.000000  \n",
       "mean    8519.500000  \n",
       "std     4919.168629  \n",
       "min        0.000000  \n",
       "25%     4259.750000  \n",
       "50%     8519.500000  \n",
       "75%    12779.250000  \n",
       "max    17039.000000  \n",
       "\n",
       "[8 rows x 786 columns]"
      ]
     },
     "execution_count": 5,
     "metadata": {},
     "output_type": "execute_result"
    }
   ],
   "source": [
    "# Описательная статистика для датайфрема для обучения\n",
    "train_df.describe()"
   ]
  },
  {
   "cell_type": "code",
   "execution_count": 6,
   "metadata": {
    "execution": {
     "iopub.execute_input": "2023-05-18T23:13:55.467150Z",
     "iopub.status.busy": "2023-05-18T23:13:55.466729Z",
     "iopub.status.idle": "2023-05-18T23:13:55.811459Z",
     "shell.execute_reply": "2023-05-18T23:13:55.809846Z"
    },
    "papermill": {
     "duration": 0.356518,
     "end_time": "2023-05-18T23:13:55.814381",
     "exception": false,
     "start_time": "2023-05-18T23:13:55.457863",
     "status": "completed"
    },
    "tags": []
   },
   "outputs": [
    {
     "name": "stdout",
     "output_type": "stream",
     "text": [
      "<class 'pandas.core.frame.DataFrame'>\n",
      "RangeIndex: 17040 entries, 0 to 17039\n",
      "Columns: 786 entries, label to Id\n",
      "dtypes: float64(424), int64(362)\n",
      "memory usage: 102.2 MB\n"
     ]
    }
   ],
   "source": [
    "# Общая информация о датафрейме для обучения\n",
    "train_df.info()"
   ]
  },
  {
   "cell_type": "code",
   "execution_count": 7,
   "metadata": {
    "execution": {
     "iopub.execute_input": "2023-05-18T23:13:55.831718Z",
     "iopub.status.busy": "2023-05-18T23:13:55.831300Z",
     "iopub.status.idle": "2023-05-18T23:13:55.858305Z",
     "shell.execute_reply": "2023-05-18T23:13:55.857282Z"
    },
    "papermill": {
     "duration": 0.037982,
     "end_time": "2023-05-18T23:13:55.860347",
     "exception": false,
     "start_time": "2023-05-18T23:13:55.822365",
     "status": "completed"
    },
    "tags": []
   },
   "outputs": [
    {
     "data": {
      "text/html": [
       "<div>\n",
       "<style scoped>\n",
       "    .dataframe tbody tr th:only-of-type {\n",
       "        vertical-align: middle;\n",
       "    }\n",
       "\n",
       "    .dataframe tbody tr th {\n",
       "        vertical-align: top;\n",
       "    }\n",
       "\n",
       "    .dataframe thead th {\n",
       "        text-align: right;\n",
       "    }\n",
       "</style>\n",
       "<table border=\"1\" class=\"dataframe\">\n",
       "  <thead>\n",
       "    <tr style=\"text-align: right;\">\n",
       "      <th></th>\n",
       "      <th>label</th>\n",
       "      <th>pixel1</th>\n",
       "      <th>pixel2</th>\n",
       "      <th>pixel3</th>\n",
       "      <th>pixel4</th>\n",
       "      <th>pixel5</th>\n",
       "      <th>pixel6</th>\n",
       "      <th>pixel7</th>\n",
       "      <th>pixel8</th>\n",
       "      <th>pixel9</th>\n",
       "      <th>...</th>\n",
       "      <th>pixel776</th>\n",
       "      <th>pixel777</th>\n",
       "      <th>pixel778</th>\n",
       "      <th>pixel779</th>\n",
       "      <th>pixel780</th>\n",
       "      <th>pixel781</th>\n",
       "      <th>pixel782</th>\n",
       "      <th>pixel783</th>\n",
       "      <th>pixel784</th>\n",
       "      <th>Id</th>\n",
       "    </tr>\n",
       "  </thead>\n",
       "  <tbody>\n",
       "    <tr>\n",
       "      <th>0</th>\n",
       "      <td>2</td>\n",
       "      <td>0</td>\n",
       "      <td>0</td>\n",
       "      <td>0</td>\n",
       "      <td>0</td>\n",
       "      <td>0</td>\n",
       "      <td>0</td>\n",
       "      <td>0</td>\n",
       "      <td>0</td>\n",
       "      <td>0</td>\n",
       "      <td>...</td>\n",
       "      <td>0.0</td>\n",
       "      <td>0.0</td>\n",
       "      <td>0.0</td>\n",
       "      <td>0.0</td>\n",
       "      <td>0.0</td>\n",
       "      <td>0.0</td>\n",
       "      <td>0.0</td>\n",
       "      <td>0.0</td>\n",
       "      <td>0.0</td>\n",
       "      <td>0</td>\n",
       "    </tr>\n",
       "    <tr>\n",
       "      <th>1</th>\n",
       "      <td>9</td>\n",
       "      <td>0</td>\n",
       "      <td>0</td>\n",
       "      <td>0</td>\n",
       "      <td>0</td>\n",
       "      <td>0</td>\n",
       "      <td>0</td>\n",
       "      <td>0</td>\n",
       "      <td>0</td>\n",
       "      <td>0</td>\n",
       "      <td>...</td>\n",
       "      <td>0.0</td>\n",
       "      <td>0.0</td>\n",
       "      <td>0.0</td>\n",
       "      <td>0.0</td>\n",
       "      <td>0.0</td>\n",
       "      <td>0.0</td>\n",
       "      <td>0.0</td>\n",
       "      <td>0.0</td>\n",
       "      <td>0.0</td>\n",
       "      <td>1</td>\n",
       "    </tr>\n",
       "    <tr>\n",
       "      <th>2</th>\n",
       "      <td>6</td>\n",
       "      <td>0</td>\n",
       "      <td>0</td>\n",
       "      <td>0</td>\n",
       "      <td>0</td>\n",
       "      <td>0</td>\n",
       "      <td>0</td>\n",
       "      <td>0</td>\n",
       "      <td>5</td>\n",
       "      <td>0</td>\n",
       "      <td>...</td>\n",
       "      <td>0.0</td>\n",
       "      <td>0.0</td>\n",
       "      <td>30.0</td>\n",
       "      <td>43.0</td>\n",
       "      <td>0.0</td>\n",
       "      <td>0.0</td>\n",
       "      <td>0.0</td>\n",
       "      <td>0.0</td>\n",
       "      <td>0.0</td>\n",
       "      <td>2</td>\n",
       "    </tr>\n",
       "    <tr>\n",
       "      <th>3</th>\n",
       "      <td>0</td>\n",
       "      <td>0</td>\n",
       "      <td>0</td>\n",
       "      <td>0</td>\n",
       "      <td>1</td>\n",
       "      <td>2</td>\n",
       "      <td>0</td>\n",
       "      <td>0</td>\n",
       "      <td>0</td>\n",
       "      <td>0</td>\n",
       "      <td>...</td>\n",
       "      <td>0.0</td>\n",
       "      <td>0.0</td>\n",
       "      <td>0.0</td>\n",
       "      <td>0.0</td>\n",
       "      <td>1.0</td>\n",
       "      <td>0.0</td>\n",
       "      <td>0.0</td>\n",
       "      <td>0.0</td>\n",
       "      <td>0.0</td>\n",
       "      <td>3</td>\n",
       "    </tr>\n",
       "    <tr>\n",
       "      <th>4</th>\n",
       "      <td>3</td>\n",
       "      <td>0</td>\n",
       "      <td>0</td>\n",
       "      <td>0</td>\n",
       "      <td>0</td>\n",
       "      <td>0</td>\n",
       "      <td>0</td>\n",
       "      <td>0</td>\n",
       "      <td>0</td>\n",
       "      <td>0</td>\n",
       "      <td>...</td>\n",
       "      <td>0.0</td>\n",
       "      <td>0.0</td>\n",
       "      <td>0.0</td>\n",
       "      <td>0.0</td>\n",
       "      <td>0.0</td>\n",
       "      <td>0.0</td>\n",
       "      <td>0.0</td>\n",
       "      <td>0.0</td>\n",
       "      <td>0.0</td>\n",
       "      <td>4</td>\n",
       "    </tr>\n",
       "  </tbody>\n",
       "</table>\n",
       "<p>5 rows × 786 columns</p>\n",
       "</div>"
      ],
      "text/plain": [
       "   label  pixel1  pixel2  pixel3  pixel4  pixel5  pixel6  pixel7  pixel8  \\\n",
       "0      2       0       0       0       0       0       0       0       0   \n",
       "1      9       0       0       0       0       0       0       0       0   \n",
       "2      6       0       0       0       0       0       0       0       5   \n",
       "3      0       0       0       0       1       2       0       0       0   \n",
       "4      3       0       0       0       0       0       0       0       0   \n",
       "\n",
       "   pixel9  ...  pixel776  pixel777  pixel778  pixel779  pixel780  pixel781  \\\n",
       "0       0  ...       0.0       0.0       0.0       0.0       0.0       0.0   \n",
       "1       0  ...       0.0       0.0       0.0       0.0       0.0       0.0   \n",
       "2       0  ...       0.0       0.0      30.0      43.0       0.0       0.0   \n",
       "3       0  ...       0.0       0.0       0.0       0.0       1.0       0.0   \n",
       "4       0  ...       0.0       0.0       0.0       0.0       0.0       0.0   \n",
       "\n",
       "   pixel782  pixel783  pixel784  Id  \n",
       "0       0.0       0.0       0.0   0  \n",
       "1       0.0       0.0       0.0   1  \n",
       "2       0.0       0.0       0.0   2  \n",
       "3       0.0       0.0       0.0   3  \n",
       "4       0.0       0.0       0.0   4  \n",
       "\n",
       "[5 rows x 786 columns]"
      ]
     },
     "execution_count": 7,
     "metadata": {},
     "output_type": "execute_result"
    }
   ],
   "source": [
    "# Просмотр первых пяти строк датасета для обучения\n",
    "train_df.head()"
   ]
  },
  {
   "cell_type": "code",
   "execution_count": 8,
   "metadata": {
    "execution": {
     "iopub.execute_input": "2023-05-18T23:13:55.878986Z",
     "iopub.status.busy": "2023-05-18T23:13:55.878558Z",
     "iopub.status.idle": "2023-05-18T23:13:56.642466Z",
     "shell.execute_reply": "2023-05-18T23:13:56.640102Z"
    },
    "papermill": {
     "duration": 0.777217,
     "end_time": "2023-05-18T23:13:56.645725",
     "exception": false,
     "start_time": "2023-05-18T23:13:55.868508",
     "status": "completed"
    },
    "tags": []
   },
   "outputs": [],
   "source": [
    "# Чтение и запись в датафрейм датасета для теста\n",
    "test_df = pd.read_csv('../input/mds-mipt-dl-test-final/fmnist_test.csv')"
   ]
  },
  {
   "cell_type": "code",
   "execution_count": 9,
   "metadata": {
    "execution": {
     "iopub.execute_input": "2023-05-18T23:13:56.666217Z",
     "iopub.status.busy": "2023-05-18T23:13:56.665809Z",
     "iopub.status.idle": "2023-05-18T23:13:56.688376Z",
     "shell.execute_reply": "2023-05-18T23:13:56.686286Z"
    },
    "papermill": {
     "duration": 0.036998,
     "end_time": "2023-05-18T23:13:56.691318",
     "exception": false,
     "start_time": "2023-05-18T23:13:56.654320",
     "status": "completed"
    },
    "tags": []
   },
   "outputs": [
    {
     "data": {
      "text/html": [
       "<div>\n",
       "<style scoped>\n",
       "    .dataframe tbody tr th:only-of-type {\n",
       "        vertical-align: middle;\n",
       "    }\n",
       "\n",
       "    .dataframe tbody tr th {\n",
       "        vertical-align: top;\n",
       "    }\n",
       "\n",
       "    .dataframe thead th {\n",
       "        text-align: right;\n",
       "    }\n",
       "</style>\n",
       "<table border=\"1\" class=\"dataframe\">\n",
       "  <thead>\n",
       "    <tr style=\"text-align: right;\">\n",
       "      <th></th>\n",
       "      <th>pixel1</th>\n",
       "      <th>pixel2</th>\n",
       "      <th>pixel3</th>\n",
       "      <th>pixel4</th>\n",
       "      <th>pixel5</th>\n",
       "      <th>pixel6</th>\n",
       "      <th>pixel7</th>\n",
       "      <th>pixel8</th>\n",
       "      <th>pixel9</th>\n",
       "      <th>pixel10</th>\n",
       "      <th>...</th>\n",
       "      <th>pixel776</th>\n",
       "      <th>pixel777</th>\n",
       "      <th>pixel778</th>\n",
       "      <th>pixel779</th>\n",
       "      <th>pixel780</th>\n",
       "      <th>pixel781</th>\n",
       "      <th>pixel782</th>\n",
       "      <th>pixel783</th>\n",
       "      <th>pixel784</th>\n",
       "      <th>Id</th>\n",
       "    </tr>\n",
       "  </thead>\n",
       "  <tbody>\n",
       "    <tr>\n",
       "      <th>0</th>\n",
       "      <td>0</td>\n",
       "      <td>0</td>\n",
       "      <td>0</td>\n",
       "      <td>0</td>\n",
       "      <td>0</td>\n",
       "      <td>0</td>\n",
       "      <td>0</td>\n",
       "      <td>9</td>\n",
       "      <td>8</td>\n",
       "      <td>0</td>\n",
       "      <td>...</td>\n",
       "      <td>87</td>\n",
       "      <td>56</td>\n",
       "      <td>0</td>\n",
       "      <td>0</td>\n",
       "      <td>0</td>\n",
       "      <td>0</td>\n",
       "      <td>0</td>\n",
       "      <td>0</td>\n",
       "      <td>0</td>\n",
       "      <td>0</td>\n",
       "    </tr>\n",
       "    <tr>\n",
       "      <th>1</th>\n",
       "      <td>0</td>\n",
       "      <td>0</td>\n",
       "      <td>0</td>\n",
       "      <td>0</td>\n",
       "      <td>0</td>\n",
       "      <td>0</td>\n",
       "      <td>0</td>\n",
       "      <td>0</td>\n",
       "      <td>0</td>\n",
       "      <td>0</td>\n",
       "      <td>...</td>\n",
       "      <td>0</td>\n",
       "      <td>0</td>\n",
       "      <td>0</td>\n",
       "      <td>0</td>\n",
       "      <td>0</td>\n",
       "      <td>0</td>\n",
       "      <td>0</td>\n",
       "      <td>0</td>\n",
       "      <td>0</td>\n",
       "      <td>1</td>\n",
       "    </tr>\n",
       "    <tr>\n",
       "      <th>2</th>\n",
       "      <td>0</td>\n",
       "      <td>0</td>\n",
       "      <td>0</td>\n",
       "      <td>0</td>\n",
       "      <td>0</td>\n",
       "      <td>0</td>\n",
       "      <td>14</td>\n",
       "      <td>53</td>\n",
       "      <td>99</td>\n",
       "      <td>17</td>\n",
       "      <td>...</td>\n",
       "      <td>0</td>\n",
       "      <td>0</td>\n",
       "      <td>0</td>\n",
       "      <td>63</td>\n",
       "      <td>53</td>\n",
       "      <td>31</td>\n",
       "      <td>0</td>\n",
       "      <td>0</td>\n",
       "      <td>0</td>\n",
       "      <td>2</td>\n",
       "    </tr>\n",
       "    <tr>\n",
       "      <th>3</th>\n",
       "      <td>0</td>\n",
       "      <td>0</td>\n",
       "      <td>0</td>\n",
       "      <td>0</td>\n",
       "      <td>0</td>\n",
       "      <td>0</td>\n",
       "      <td>0</td>\n",
       "      <td>0</td>\n",
       "      <td>0</td>\n",
       "      <td>161</td>\n",
       "      <td>...</td>\n",
       "      <td>126</td>\n",
       "      <td>140</td>\n",
       "      <td>0</td>\n",
       "      <td>133</td>\n",
       "      <td>224</td>\n",
       "      <td>222</td>\n",
       "      <td>56</td>\n",
       "      <td>0</td>\n",
       "      <td>0</td>\n",
       "      <td>3</td>\n",
       "    </tr>\n",
       "    <tr>\n",
       "      <th>4</th>\n",
       "      <td>0</td>\n",
       "      <td>0</td>\n",
       "      <td>0</td>\n",
       "      <td>0</td>\n",
       "      <td>0</td>\n",
       "      <td>0</td>\n",
       "      <td>0</td>\n",
       "      <td>0</td>\n",
       "      <td>0</td>\n",
       "      <td>0</td>\n",
       "      <td>...</td>\n",
       "      <td>0</td>\n",
       "      <td>0</td>\n",
       "      <td>0</td>\n",
       "      <td>0</td>\n",
       "      <td>0</td>\n",
       "      <td>0</td>\n",
       "      <td>0</td>\n",
       "      <td>0</td>\n",
       "      <td>0</td>\n",
       "      <td>4</td>\n",
       "    </tr>\n",
       "  </tbody>\n",
       "</table>\n",
       "<p>5 rows × 785 columns</p>\n",
       "</div>"
      ],
      "text/plain": [
       "   pixel1  pixel2  pixel3  pixel4  pixel5  pixel6  pixel7  pixel8  pixel9  \\\n",
       "0       0       0       0       0       0       0       0       9       8   \n",
       "1       0       0       0       0       0       0       0       0       0   \n",
       "2       0       0       0       0       0       0      14      53      99   \n",
       "3       0       0       0       0       0       0       0       0       0   \n",
       "4       0       0       0       0       0       0       0       0       0   \n",
       "\n",
       "   pixel10  ...  pixel776  pixel777  pixel778  pixel779  pixel780  pixel781  \\\n",
       "0        0  ...        87        56         0         0         0         0   \n",
       "1        0  ...         0         0         0         0         0         0   \n",
       "2       17  ...         0         0         0        63        53        31   \n",
       "3      161  ...       126       140         0       133       224       222   \n",
       "4        0  ...         0         0         0         0         0         0   \n",
       "\n",
       "   pixel782  pixel783  pixel784  Id  \n",
       "0         0         0         0   0  \n",
       "1         0         0         0   1  \n",
       "2         0         0         0   2  \n",
       "3        56         0         0   3  \n",
       "4         0         0         0   4  \n",
       "\n",
       "[5 rows x 785 columns]"
      ]
     },
     "execution_count": 9,
     "metadata": {},
     "output_type": "execute_result"
    }
   ],
   "source": [
    "# Просмотр первых пяти строк датасета для теста\n",
    "test_df.head()"
   ]
  },
  {
   "cell_type": "code",
   "execution_count": 10,
   "metadata": {
    "execution": {
     "iopub.execute_input": "2023-05-18T23:13:56.710509Z",
     "iopub.status.busy": "2023-05-18T23:13:56.710080Z",
     "iopub.status.idle": "2023-05-18T23:13:56.734143Z",
     "shell.execute_reply": "2023-05-18T23:13:56.732910Z"
    },
    "papermill": {
     "duration": 0.036803,
     "end_time": "2023-05-18T23:13:56.737042",
     "exception": false,
     "start_time": "2023-05-18T23:13:56.700239",
     "status": "completed"
    },
    "tags": []
   },
   "outputs": [
    {
     "data": {
      "text/plain": [
       "424"
      ]
     },
     "execution_count": 10,
     "metadata": {},
     "output_type": "execute_result"
    }
   ],
   "source": [
    "# Проверка на NaN значения датафрейма для обучения.\n",
    "train_df.isnull().sum().sum()"
   ]
  },
  {
   "cell_type": "code",
   "execution_count": 11,
   "metadata": {
    "execution": {
     "iopub.execute_input": "2023-05-18T23:13:56.757692Z",
     "iopub.status.busy": "2023-05-18T23:13:56.757219Z",
     "iopub.status.idle": "2023-05-18T23:13:56.778413Z",
     "shell.execute_reply": "2023-05-18T23:13:56.776823Z"
    },
    "papermill": {
     "duration": 0.034799,
     "end_time": "2023-05-18T23:13:56.781275",
     "exception": false,
     "start_time": "2023-05-18T23:13:56.746476",
     "status": "completed"
    },
    "tags": []
   },
   "outputs": [
    {
     "data": {
      "text/plain": [
       "424"
      ]
     },
     "execution_count": 11,
     "metadata": {},
     "output_type": "execute_result"
    }
   ],
   "source": [
    "# Проверка на NaN значения датафрейма для обучения.\n",
    "train_df.isna().sum().sum()"
   ]
  },
  {
   "cell_type": "code",
   "execution_count": 12,
   "metadata": {
    "execution": {
     "iopub.execute_input": "2023-05-18T23:13:56.803899Z",
     "iopub.status.busy": "2023-05-18T23:13:56.803367Z",
     "iopub.status.idle": "2023-05-18T23:13:56.816459Z",
     "shell.execute_reply": "2023-05-18T23:13:56.814677Z"
    },
    "papermill": {
     "duration": 0.026959,
     "end_time": "2023-05-18T23:13:56.818644",
     "exception": false,
     "start_time": "2023-05-18T23:13:56.791685",
     "status": "completed"
    },
    "tags": []
   },
   "outputs": [
    {
     "data": {
      "text/plain": [
       "0"
      ]
     },
     "execution_count": 12,
     "metadata": {},
     "output_type": "execute_result"
    }
   ],
   "source": [
    "# Проверка на NaN значения датафрейма для теста.\n",
    "test_df.isna().sum().sum()"
   ]
  },
  {
   "cell_type": "code",
   "execution_count": 13,
   "metadata": {
    "execution": {
     "iopub.execute_input": "2023-05-18T23:13:56.844354Z",
     "iopub.status.busy": "2023-05-18T23:13:56.841460Z",
     "iopub.status.idle": "2023-05-18T23:13:56.882247Z",
     "shell.execute_reply": "2023-05-18T23:13:56.880520Z"
    },
    "papermill": {
     "duration": 0.05659,
     "end_time": "2023-05-18T23:13:56.885179",
     "exception": false,
     "start_time": "2023-05-18T23:13:56.828589",
     "status": "completed"
    },
    "tags": []
   },
   "outputs": [
    {
     "data": {
      "text/html": [
       "<div>\n",
       "<style scoped>\n",
       "    .dataframe tbody tr th:only-of-type {\n",
       "        vertical-align: middle;\n",
       "    }\n",
       "\n",
       "    .dataframe tbody tr th {\n",
       "        vertical-align: top;\n",
       "    }\n",
       "\n",
       "    .dataframe thead th {\n",
       "        text-align: right;\n",
       "    }\n",
       "</style>\n",
       "<table border=\"1\" class=\"dataframe\">\n",
       "  <thead>\n",
       "    <tr style=\"text-align: right;\">\n",
       "      <th></th>\n",
       "      <th>label</th>\n",
       "      <th>pixel1</th>\n",
       "      <th>pixel2</th>\n",
       "      <th>pixel3</th>\n",
       "      <th>pixel4</th>\n",
       "      <th>pixel5</th>\n",
       "      <th>pixel6</th>\n",
       "      <th>pixel7</th>\n",
       "      <th>pixel8</th>\n",
       "      <th>pixel9</th>\n",
       "      <th>...</th>\n",
       "      <th>pixel776</th>\n",
       "      <th>pixel777</th>\n",
       "      <th>pixel778</th>\n",
       "      <th>pixel779</th>\n",
       "      <th>pixel780</th>\n",
       "      <th>pixel781</th>\n",
       "      <th>pixel782</th>\n",
       "      <th>pixel783</th>\n",
       "      <th>pixel784</th>\n",
       "      <th>Id</th>\n",
       "    </tr>\n",
       "  </thead>\n",
       "  <tbody>\n",
       "    <tr>\n",
       "      <th>17039</th>\n",
       "      <td>5</td>\n",
       "      <td>0</td>\n",
       "      <td>0</td>\n",
       "      <td>0</td>\n",
       "      <td>0</td>\n",
       "      <td>0</td>\n",
       "      <td>0</td>\n",
       "      <td>0</td>\n",
       "      <td>0</td>\n",
       "      <td>0</td>\n",
       "      <td>...</td>\n",
       "      <td>NaN</td>\n",
       "      <td>NaN</td>\n",
       "      <td>NaN</td>\n",
       "      <td>NaN</td>\n",
       "      <td>NaN</td>\n",
       "      <td>NaN</td>\n",
       "      <td>NaN</td>\n",
       "      <td>NaN</td>\n",
       "      <td>NaN</td>\n",
       "      <td>17039</td>\n",
       "    </tr>\n",
       "  </tbody>\n",
       "</table>\n",
       "<p>1 rows × 786 columns</p>\n",
       "</div>"
      ],
      "text/plain": [
       "       label  pixel1  pixel2  pixel3  pixel4  pixel5  pixel6  pixel7  pixel8  \\\n",
       "17039      5       0       0       0       0       0       0       0       0   \n",
       "\n",
       "       pixel9  ...  pixel776  pixel777  pixel778  pixel779  pixel780  \\\n",
       "17039       0  ...       NaN       NaN       NaN       NaN       NaN   \n",
       "\n",
       "       pixel781  pixel782  pixel783  pixel784     Id  \n",
       "17039       NaN       NaN       NaN       NaN  17039  \n",
       "\n",
       "[1 rows x 786 columns]"
      ]
     },
     "execution_count": 13,
     "metadata": {},
     "output_type": "execute_result"
    }
   ],
   "source": [
    "# Строка, где есть NaN значения\n",
    "train_df[train_df.isna().any(axis=1)]"
   ]
  },
  {
   "cell_type": "code",
   "execution_count": 14,
   "metadata": {
    "execution": {
     "iopub.execute_input": "2023-05-18T23:13:56.909410Z",
     "iopub.status.busy": "2023-05-18T23:13:56.908960Z",
     "iopub.status.idle": "2023-05-18T23:13:56.999488Z",
     "shell.execute_reply": "2023-05-18T23:13:56.997747Z"
    },
    "papermill": {
     "duration": 0.106633,
     "end_time": "2023-05-18T23:13:57.003681",
     "exception": false,
     "start_time": "2023-05-18T23:13:56.897048",
     "status": "completed"
    },
    "tags": []
   },
   "outputs": [
    {
     "name": "stdout",
     "output_type": "stream",
     "text": [
      "<class 'pandas.core.frame.DataFrame'>\n",
      "Int64Index: 17039 entries, 0 to 17038\n",
      "Columns: 786 entries, label to Id\n",
      "dtypes: float64(424), int64(362)\n",
      "memory usage: 102.3 MB\n"
     ]
    }
   ],
   "source": [
    "# Удаление строки, где есть NaN значения\n",
    "train_df.dropna(how='any', inplace=True)\n",
    "train_df.info()"
   ]
  },
  {
   "cell_type": "code",
   "execution_count": 15,
   "metadata": {
    "execution": {
     "iopub.execute_input": "2023-05-18T23:13:57.026620Z",
     "iopub.status.busy": "2023-05-18T23:13:57.026141Z",
     "iopub.status.idle": "2023-05-18T23:13:57.034060Z",
     "shell.execute_reply": "2023-05-18T23:13:57.031575Z"
    },
    "papermill": {
     "duration": 0.023144,
     "end_time": "2023-05-18T23:13:57.037326",
     "exception": false,
     "start_time": "2023-05-18T23:13:57.014182",
     "status": "completed"
    },
    "tags": []
   },
   "outputs": [],
   "source": [
    "# Создание словаря с метками и названия одежды/обуви.\n",
    "labels = {\n",
    "          0: 'T-shirt',\n",
    "          1: 'Trouser',\n",
    "          2: 'Pullover',\n",
    "          3: 'Dress',\n",
    "          4: 'Coat',\n",
    "          5: 'Sandal',\n",
    "          6: 'Shirt',\n",
    "          7: 'Sneaker',\n",
    "          8: 'Bag',\n",
    "          9: 'Ankle boot'\n",
    "          }"
   ]
  },
  {
   "cell_type": "code",
   "execution_count": 16,
   "metadata": {
    "execution": {
     "iopub.execute_input": "2023-05-18T23:13:57.059399Z",
     "iopub.status.busy": "2023-05-18T23:13:57.058953Z",
     "iopub.status.idle": "2023-05-18T23:13:57.064798Z",
     "shell.execute_reply": "2023-05-18T23:13:57.063601Z"
    },
    "papermill": {
     "duration": 0.020399,
     "end_time": "2023-05-18T23:13:57.067707",
     "exception": false,
     "start_time": "2023-05-18T23:13:57.047308",
     "status": "completed"
    },
    "tags": []
   },
   "outputs": [],
   "source": [
    "# Функция построения частотного распределения по классам.\n",
    "def plot_label_per_class(data):\n",
    "    g = sns.countplot(data=data, x='label')\n",
    "    g.set_title('Кол-во меток каждого класса')"
   ]
  },
  {
   "cell_type": "code",
   "execution_count": 17,
   "metadata": {
    "execution": {
     "iopub.execute_input": "2023-05-18T23:13:57.088626Z",
     "iopub.status.busy": "2023-05-18T23:13:57.088147Z",
     "iopub.status.idle": "2023-05-18T23:13:57.406769Z",
     "shell.execute_reply": "2023-05-18T23:13:57.403829Z"
    },
    "papermill": {
     "duration": 0.332522,
     "end_time": "2023-05-18T23:13:57.410113",
     "exception": false,
     "start_time": "2023-05-18T23:13:57.077591",
     "status": "completed"
    },
    "tags": []
   },
   "outputs": [
    {
     "data": {
      "image/png": "[encoded data removed]",
      "text/plain": [
       "<Figure size 640x480 with 1 Axes>"
      ]
     },
     "metadata": {},
     "output_type": "display_data"
    }
   ],
   "source": [
    "# Частнотное распределение по классам для датафрейма для обучения. Сбалансированность классов\n",
    "plot_label_per_class(train_df)"
   ]
  },
  {
   "cell_type": "code",
   "execution_count": 18,
   "metadata": {
    "execution": {
     "iopub.execute_input": "2023-05-18T23:13:57.437151Z",
     "iopub.status.busy": "2023-05-18T23:13:57.436489Z",
     "iopub.status.idle": "2023-05-18T23:13:57.598466Z",
     "shell.execute_reply": "2023-05-18T23:13:57.596270Z"
    },
    "papermill": {
     "duration": 0.180887,
     "end_time": "2023-05-18T23:13:57.602427",
     "exception": false,
     "start_time": "2023-05-18T23:13:57.421540",
     "status": "completed"
    },
    "tags": []
   },
   "outputs": [],
   "source": [
    "# Разделение на обучающую и валидационную выборки\n",
    "train_files, val_files, train_labels, val_labels = train_test_split(\\\n",
    "                                                                   train_df.iloc[:, 1:-1], train_df['label'], \\\n",
    "                                                                   test_size=VALIDATION_SPLIT, random_state=SEED, \\\n",
    "                                                                   stratify=train_df['label'])"
   ]
  },
  {
   "cell_type": "code",
   "execution_count": 19,
   "metadata": {
    "execution": {
     "iopub.execute_input": "2023-05-18T23:13:57.625236Z",
     "iopub.status.busy": "2023-05-18T23:13:57.624762Z",
     "iopub.status.idle": "2023-05-18T23:13:57.656428Z",
     "shell.execute_reply": "2023-05-18T23:13:57.654264Z"
    },
    "papermill": {
     "duration": 0.047619,
     "end_time": "2023-05-18T23:13:57.660302",
     "exception": false,
     "start_time": "2023-05-18T23:13:57.612683",
     "status": "completed"
    },
    "tags": []
   },
   "outputs": [
    {
     "data": {
      "text/plain": [
       "(13631, 28, 28, 1)"
      ]
     },
     "execution_count": 19,
     "metadata": {},
     "output_type": "execute_result"
    }
   ],
   "source": [
    "# Преобразование обучающей выборки для подачи в модель.  1 - количество каналов изображения (черно-белое изображение)\n",
    "train_df_copy = np.reshape(train_files.values, (train_files.shape[0], IMG_WIDTH, IMG_HEIGHT, 1))\n",
    "train_df_copy.shape"
   ]
  },
  {
   "cell_type": "code",
   "execution_count": 20,
   "metadata": {
    "execution": {
     "iopub.execute_input": "2023-05-18T23:13:57.687625Z",
     "iopub.status.busy": "2023-05-18T23:13:57.686423Z",
     "iopub.status.idle": "2023-05-18T23:13:57.694202Z",
     "shell.execute_reply": "2023-05-18T23:13:57.692405Z"
    },
    "papermill": {
     "duration": 0.023923,
     "end_time": "2023-05-18T23:13:57.696678",
     "exception": false,
     "start_time": "2023-05-18T23:13:57.672755",
     "status": "completed"
    },
    "tags": []
   },
   "outputs": [],
   "source": [
    "# Создание копии обучающей выборки\n",
    "train_files_copy = train_files"
   ]
  },
  {
   "cell_type": "code",
   "execution_count": 21,
   "metadata": {
    "execution": {
     "iopub.execute_input": "2023-05-18T23:13:57.720654Z",
     "iopub.status.busy": "2023-05-18T23:13:57.719107Z",
     "iopub.status.idle": "2023-05-18T23:13:57.730825Z",
     "shell.execute_reply": "2023-05-18T23:13:57.728947Z"
    },
    "papermill": {
     "duration": 0.026276,
     "end_time": "2023-05-18T23:13:57.733857",
     "exception": false,
     "start_time": "2023-05-18T23:13:57.707581",
     "status": "completed"
    },
    "tags": []
   },
   "outputs": [
    {
     "data": {
      "text/plain": [
       "11602    4\n",
       "16071    8\n",
       "10905    6\n",
       "9949     5\n",
       "12702    3\n",
       "        ..\n",
       "4227     2\n",
       "406      2\n",
       "8577     3\n",
       "16990    3\n",
       "16537    6\n",
       "Name: label, Length: 13631, dtype: int64"
      ]
     },
     "execution_count": 21,
     "metadata": {},
     "output_type": "execute_result"
    }
   ],
   "source": [
    "# Добавление классов для построения графика\n",
    "train_files_copy['label'] = train_labels\n",
    "train_files_copy['label']"
   ]
  },
  {
   "cell_type": "code",
   "execution_count": 22,
   "metadata": {
    "execution": {
     "iopub.execute_input": "2023-05-18T23:13:57.757801Z",
     "iopub.status.busy": "2023-05-18T23:13:57.757107Z",
     "iopub.status.idle": "2023-05-18T23:13:58.040519Z",
     "shell.execute_reply": "2023-05-18T23:13:58.039473Z"
    },
    "papermill": {
     "duration": 0.298246,
     "end_time": "2023-05-18T23:13:58.043063",
     "exception": false,
     "start_time": "2023-05-18T23:13:57.744817",
     "status": "completed"
    },
    "tags": []
   },
   "outputs": [
    {
     "data": {
      "image/png": "[encoded data removed]",
      "text/plain": [
       "<Figure size 640x480 with 1 Axes>"
      ]
     },
     "metadata": {},
     "output_type": "display_data"
    }
   ],
   "source": [
    "# Проверка сбаласированности классов в обучающей выборке\n",
    "plot_label_per_class(train_files_copy)"
   ]
  },
  {
   "cell_type": "code",
   "execution_count": 23,
   "metadata": {
    "execution": {
     "iopub.execute_input": "2023-05-18T23:13:58.067397Z",
     "iopub.status.busy": "2023-05-18T23:13:58.066859Z",
     "iopub.status.idle": "2023-05-18T23:13:58.077961Z",
     "shell.execute_reply": "2023-05-18T23:13:58.076032Z"
    },
    "papermill": {
     "duration": 0.027571,
     "end_time": "2023-05-18T23:13:58.081934",
     "exception": false,
     "start_time": "2023-05-18T23:13:58.054363",
     "status": "completed"
    },
    "tags": []
   },
   "outputs": [
    {
     "data": {
      "text/plain": [
       "(10000, 28, 28, 1)"
      ]
     },
     "execution_count": 23,
     "metadata": {},
     "output_type": "execute_result"
    }
   ],
   "source": [
    "# Преобразование тестовой выборки для подачи в модель.  1 - количество каналов изображения (черно-белое изображение)\n",
    "test_df_copy = np.reshape(test_df.iloc[:, :-1].values, (test_df.shape[0], IMG_WIDTH, IMG_HEIGHT, 1))\n",
    "test_df_copy.shape"
   ]
  },
  {
   "cell_type": "code",
   "execution_count": 24,
   "metadata": {
    "execution": {
     "iopub.execute_input": "2023-05-18T23:13:58.106968Z",
     "iopub.status.busy": "2023-05-18T23:13:58.105907Z",
     "iopub.status.idle": "2023-05-18T23:13:58.121727Z",
     "shell.execute_reply": "2023-05-18T23:13:58.119996Z"
    },
    "papermill": {
     "duration": 0.031507,
     "end_time": "2023-05-18T23:13:58.124880",
     "exception": false,
     "start_time": "2023-05-18T23:13:58.093373",
     "status": "completed"
    },
    "tags": []
   },
   "outputs": [
    {
     "data": {
      "text/plain": [
       "(3408, 28, 28, 1)"
      ]
     },
     "execution_count": 24,
     "metadata": {},
     "output_type": "execute_result"
    }
   ],
   "source": [
    "# Преобразование валидационной выборки для подачи в модель.  1 - количество каналов изображения (черно-белое изображение)\n",
    "val_df_copy = np.reshape(val_files.values, (val_files.shape[0], IMG_WIDTH, IMG_HEIGHT, 1))\n",
    "val_df_copy.shape"
   ]
  },
  {
   "cell_type": "code",
   "execution_count": 25,
   "metadata": {
    "execution": {
     "iopub.execute_input": "2023-05-18T23:13:58.149832Z",
     "iopub.status.busy": "2023-05-18T23:13:58.149256Z",
     "iopub.status.idle": "2023-05-18T23:13:58.158019Z",
     "shell.execute_reply": "2023-05-18T23:13:58.156851Z"
    },
    "papermill": {
     "duration": 0.024881,
     "end_time": "2023-05-18T23:13:58.160899",
     "exception": false,
     "start_time": "2023-05-18T23:13:58.136018",
     "status": "completed"
    },
    "tags": []
   },
   "outputs": [],
   "source": [
    "# Функция случайного отображения картинок с одеждой/обувью и метками\n",
    "def plot_img_label(y, X):\n",
    "    if type(y) != np.ndarray:\n",
    "        y = y.values.reshape(-1, 1)\n",
    "    else:\n",
    "        y = y.reshape(-1, 1)\n",
    "    cols = 8\n",
    "    rows = 2\n",
    "    fig = plt.figure(figsize=(2 * cols - 1, 2.5 * rows - 1))\n",
    "    for i in range(cols):\n",
    "        for j in range(rows):\n",
    "            random_index = np.random.randint(0, len(y))\n",
    "            ax = fig.add_subplot(rows, cols, i * rows + j + 1)\n",
    "            ax.grid('off')\n",
    "            ax.axis('off')\n",
    "            ax.imshow(X[random_index, :])\n",
    "            ax.set_title(labels[y[random_index, 0]])\n",
    "    plt.show()"
   ]
  },
  {
   "cell_type": "code",
   "execution_count": 26,
   "metadata": {
    "execution": {
     "iopub.execute_input": "2023-05-18T23:13:58.186526Z",
     "iopub.status.busy": "2023-05-18T23:13:58.186062Z",
     "iopub.status.idle": "2023-05-18T23:13:58.991162Z",
     "shell.execute_reply": "2023-05-18T23:13:58.990334Z"
    },
    "papermill": {
     "duration": 0.820764,
     "end_time": "2023-05-18T23:13:58.993180",
     "exception": false,
     "start_time": "2023-05-18T23:13:58.172416",
     "status": "completed"
    },
    "tags": []
   },
   "outputs": [
    {
     "data": {
      "image/png": "[encoded data removed]",
      "text/plain": [
       "<Figure size 1500x400 with 16 Axes>"
      ]
     },
     "metadata": {},
     "output_type": "display_data"
    }
   ],
   "source": [
    "# Отображение картинок с метками в обучающей выборке\n",
    "plot_img_label(train_labels, train_df_copy)"
   ]
  },
  {
   "cell_type": "code",
   "execution_count": 27,
   "metadata": {
    "execution": {
     "iopub.execute_input": "2023-05-18T23:13:59.018554Z",
     "iopub.status.busy": "2023-05-18T23:13:59.018043Z",
     "iopub.status.idle": "2023-05-18T23:13:59.051495Z",
     "shell.execute_reply": "2023-05-18T23:13:59.050125Z"
    },
    "papermill": {
     "duration": 0.048479,
     "end_time": "2023-05-18T23:13:59.054244",
     "exception": false,
     "start_time": "2023-05-18T23:13:59.005765",
     "status": "completed"
    },
    "tags": []
   },
   "outputs": [],
   "source": [
    "# Нормализация данных для подачи в модель\n",
    "x_train = train_df_copy.astype('float32') / 255\n",
    "x_val = val_df_copy.astype('float32') / 255"
   ]
  },
  {
   "cell_type": "code",
   "execution_count": 28,
   "metadata": {
    "execution": {
     "iopub.execute_input": "2023-05-18T23:13:59.081239Z",
     "iopub.status.busy": "2023-05-18T23:13:59.080669Z",
     "iopub.status.idle": "2023-05-18T23:13:59.091117Z",
     "shell.execute_reply": "2023-05-18T23:13:59.089921Z"
    },
    "papermill": {
     "duration": 0.02645,
     "end_time": "2023-05-18T23:13:59.093336",
     "exception": false,
     "start_time": "2023-05-18T23:13:59.066886",
     "status": "completed"
    },
    "tags": []
   },
   "outputs": [
    {
     "data": {
      "text/plain": [
       "array([[0., 0., 0., ..., 0., 1., 0.],\n",
       "       [0., 0., 0., ..., 0., 0., 0.],\n",
       "       [0., 0., 0., ..., 1., 0., 0.],\n",
       "       ...,\n",
       "       [0., 0., 0., ..., 0., 0., 1.],\n",
       "       [0., 1., 0., ..., 0., 0., 0.],\n",
       "       [0., 0., 1., ..., 0., 0., 0.]], dtype=float32)"
      ]
     },
     "execution_count": 28,
     "metadata": {},
     "output_type": "execute_result"
    }
   ],
   "source": [
    "# Преобразование меток one-hot кодированием\n",
    "y_train = tf.keras.utils.to_categorical(train_labels, NUM_CLASSES)\n",
    "y_val = tf.keras.utils.to_categorical(val_labels, NUM_CLASSES)\n",
    "y_val"
   ]
  },
  {
   "cell_type": "code",
   "execution_count": 29,
   "metadata": {
    "execution": {
     "iopub.execute_input": "2023-05-18T23:13:59.121754Z",
     "iopub.status.busy": "2023-05-18T23:13:59.120380Z",
     "iopub.status.idle": "2023-05-18T23:13:59.131421Z",
     "shell.execute_reply": "2023-05-18T23:13:59.129902Z"
    },
    "papermill": {
     "duration": 0.028104,
     "end_time": "2023-05-18T23:13:59.133872",
     "exception": false,
     "start_time": "2023-05-18T23:13:59.105768",
     "status": "completed"
    },
    "tags": []
   },
   "outputs": [],
   "source": [
    "# Добавление слоев в модель\n",
    "def make_default_model():\n",
    "    model = Sequential()\n",
    "    model.add(Conv2D(16, kernel_size=3, padding='same', input_shape=(IMG_WIDTH, IMG_HEIGHT, 1), activation='relu'))\n",
    "    model.add(BatchNormalization())\n",
    "    model.add(Conv2D(32, kernel_size=3, padding='same', activation='relu'))\n",
    "    model.add(BatchNormalization())\n",
    "    model.add(MaxPooling2D())\n",
    "    model.add(Dropout(0.25))\n",
    "    model.add(Conv2D(64, kernel_size=3, padding='same', activation='relu'))\n",
    "    model.add(BatchNormalization())\n",
    "    model.add(Conv2D(128, kernel_size=3, padding='same', activation='relu'))\n",
    "    model.add(BatchNormalization())\n",
    "    model.add(MaxPooling2D())\n",
    "    model.add(Dropout(0.25))\n",
    "    model.add(Flatten())\n",
    "    model.add(Dense(256, activation='relu'))\n",
    "    model.add(BatchNormalization())\n",
    "    model.add(Dropout(0.25))\n",
    "    model.add(Dense(512, activation='relu'))\n",
    "    model.add(BatchNormalization())\n",
    "    model.add(Dropout(0.5))\n",
    "    model.add(Dense(NUM_CLASSES, activation='softmax'))\n",
    "    return model"
   ]
  },
  {
   "cell_type": "code",
   "execution_count": 30,
   "metadata": {
    "execution": {
     "iopub.execute_input": "2023-05-18T23:13:59.159423Z",
     "iopub.status.busy": "2023-05-18T23:13:59.159014Z",
     "iopub.status.idle": "2023-05-18T23:13:59.652824Z",
     "shell.execute_reply": "2023-05-18T23:13:59.651352Z"
    },
    "papermill": {
     "duration": 0.51022,
     "end_time": "2023-05-18T23:13:59.655828",
     "exception": false,
     "start_time": "2023-05-18T23:13:59.145608",
     "status": "completed"
    },
    "tags": []
   },
   "outputs": [
    {
     "name": "stdout",
     "output_type": "stream",
     "text": [
      "Model: \"sequential\"\n",
      "_________________________________________________________________\n",
      " Layer (type)                Output Shape              Param #   \n",
      "=================================================================\n",
      " conv2d (Conv2D)             (None, 28, 28, 16)        160       \n",
      "                                                                 \n",
      " batch_normalization (BatchN  (None, 28, 28, 16)       64        \n",
      " ormalization)                                                   \n",
      "                                                                 \n",
      " conv2d_1 (Conv2D)           (None, 28, 28, 32)        4640      \n",
      "                                                                 \n",
      " batch_normalization_1 (Batc  (None, 28, 28, 32)       128       \n",
      " hNormalization)                                                 \n",
      "                                                                 \n",
      " max_pooling2d (MaxPooling2D  (None, 14, 14, 32)       0         \n",
      " )                                                               \n",
      "                                                                 \n",
      " dropout (Dropout)           (None, 14, 14, 32)        0         \n",
      "                                                                 \n",
      " conv2d_2 (Conv2D)           (None, 14, 14, 64)        18496     \n",
      "                                                                 \n",
      " batch_normalization_2 (Batc  (None, 14, 14, 64)       256       \n",
      " hNormalization)                                                 \n",
      "                                                                 \n",
      " conv2d_3 (Conv2D)           (None, 14, 14, 128)       73856     \n",
      "                                                                 \n",
      " batch_normalization_3 (Batc  (None, 14, 14, 128)      512       \n",
      " hNormalization)                                                 \n",
      "                                                                 \n",
      " max_pooling2d_1 (MaxPooling  (None, 7, 7, 128)        0         \n",
      " 2D)                                                             \n",
      "                                                                 \n",
      " dropout_1 (Dropout)         (None, 7, 7, 128)         0         \n",
      "                                                                 \n",
      " flatten (Flatten)           (None, 6272)              0         \n",
      "                                                                 \n",
      " dense (Dense)               (None, 256)               1605888   \n",
      "                                                                 \n",
      " batch_normalization_4 (Batc  (None, 256)              1024      \n",
      " hNormalization)                                                 \n",
      "                                                                 \n",
      " dropout_2 (Dropout)         (None, 256)               0         \n",
      "                                                                 \n",
      " dense_1 (Dense)             (None, 512)               131584    \n",
      "                                                                 \n",
      " batch_normalization_5 (Batc  (None, 512)              2048      \n",
      " hNormalization)                                                 \n",
      "                                                                 \n",
      " dropout_3 (Dropout)         (None, 512)               0         \n",
      "                                                                 \n",
      " dense_2 (Dense)             (None, 10)                5130      \n",
      "                                                                 \n",
      "=================================================================\n",
      "Total params: 1,843,786\n",
      "Trainable params: 1,841,770\n",
      "Non-trainable params: 2,016\n",
      "_________________________________________________________________\n"
     ]
    }
   ],
   "source": [
    "# Очищение сессии, построение модели, выведение слоев, кол-ва параметров и формы выходов\n",
    "K.clear_session()\n",
    "model = make_default_model()\n",
    "model.summary()"
   ]
  },
  {
   "cell_type": "code",
   "execution_count": 31,
   "metadata": {
    "execution": {
     "iopub.execute_input": "2023-05-18T23:13:59.688405Z",
     "iopub.status.busy": "2023-05-18T23:13:59.687908Z",
     "iopub.status.idle": "2023-05-18T23:28:24.678978Z",
     "shell.execute_reply": "2023-05-18T23:28:24.678032Z"
    },
    "papermill": {
     "duration": 865.010173,
     "end_time": "2023-05-18T23:28:24.681235",
     "exception": false,
     "start_time": "2023-05-18T23:13:59.671062",
     "status": "completed"
    },
    "tags": []
   },
   "outputs": [
    {
     "name": "stdout",
     "output_type": "stream",
     "text": [
      "Epoch 1/25\n",
      "213/213 [==============================] - 37s 161ms/step - loss: 0.7743 - accuracy: 0.7506 - val_loss: 2.2450 - val_accuracy: 0.2192\n",
      "Epoch 2/25\n",
      "213/213 [==============================] - 34s 161ms/step - loss: 0.4757 - accuracy: 0.8346 - val_loss: 1.3043 - val_accuracy: 0.5810\n",
      "Epoch 3/25\n",
      "213/213 [==============================] - 34s 159ms/step - loss: 0.3736 - accuracy: 0.8690 - val_loss: 0.4040 - val_accuracy: 0.8633\n",
      "Epoch 4/25\n",
      "213/213 [==============================] - 34s 161ms/step - loss: 0.3110 - accuracy: 0.8864 - val_loss: 0.3058 - val_accuracy: 0.8900\n",
      "Epoch 5/25\n",
      "213/213 [==============================] - 35s 162ms/step - loss: 0.2842 - accuracy: 0.8967 - val_loss: 0.2962 - val_accuracy: 0.8955\n",
      "Epoch 6/25\n",
      "213/213 [==============================] - 33s 155ms/step - loss: 0.2579 - accuracy: 0.9054 - val_loss: 0.3116 - val_accuracy: 0.8844\n",
      "Epoch 7/25\n",
      "213/213 [==============================] - 33s 157ms/step - loss: 0.2309 - accuracy: 0.9137 - val_loss: 0.3086 - val_accuracy: 0.8932\n",
      "Epoch 8/25\n",
      "213/213 [==============================] - 33s 157ms/step - loss: 0.2091 - accuracy: 0.9240 - val_loss: 0.2873 - val_accuracy: 0.9058\n",
      "Epoch 9/25\n",
      "213/213 [==============================] - 33s 156ms/step - loss: 0.1931 - accuracy: 0.9285 - val_loss: 0.2950 - val_accuracy: 0.8970\n",
      "Epoch 10/25\n",
      "213/213 [==============================] - 33s 155ms/step - loss: 0.1861 - accuracy: 0.9345 - val_loss: 0.2989 - val_accuracy: 0.9043\n",
      "Epoch 11/25\n",
      "213/213 [==============================] - 33s 156ms/step - loss: 0.1765 - accuracy: 0.9356 - val_loss: 0.3441 - val_accuracy: 0.8885\n",
      "Epoch 12/25\n",
      "213/213 [==============================] - 35s 164ms/step - loss: 0.1726 - accuracy: 0.9360 - val_loss: 0.3139 - val_accuracy: 0.9082\n",
      "Epoch 13/25\n",
      "213/213 [==============================] - 35s 164ms/step - loss: 0.1493 - accuracy: 0.9452 - val_loss: 0.2927 - val_accuracy: 0.9099\n",
      "Epoch 14/25\n",
      "213/213 [==============================] - 35s 163ms/step - loss: 0.1306 - accuracy: 0.9508 - val_loss: 0.3173 - val_accuracy: 0.9082\n",
      "Epoch 15/25\n",
      "213/213 [==============================] - 35s 163ms/step - loss: 0.1206 - accuracy: 0.9552 - val_loss: 0.3443 - val_accuracy: 0.9070\n",
      "Epoch 16/25\n",
      "213/213 [==============================] - 35s 163ms/step - loss: 0.1164 - accuracy: 0.9571 - val_loss: 0.3455 - val_accuracy: 0.9082\n",
      "Epoch 17/25\n",
      "213/213 [==============================] - 34s 160ms/step - loss: 0.1150 - accuracy: 0.9593 - val_loss: 0.3483 - val_accuracy: 0.9046\n",
      "Epoch 18/25\n",
      "213/213 [==============================] - 35s 165ms/step - loss: 0.0985 - accuracy: 0.9629 - val_loss: 0.3707 - val_accuracy: 0.9011\n",
      "Epoch 19/25\n",
      "213/213 [==============================] - 34s 161ms/step - loss: 0.0979 - accuracy: 0.9641 - val_loss: 0.3596 - val_accuracy: 0.9049\n",
      "Epoch 20/25\n",
      "213/213 [==============================] - 36s 171ms/step - loss: 0.0897 - accuracy: 0.9678 - val_loss: 0.3918 - val_accuracy: 0.9023\n",
      "Epoch 21/25\n",
      "213/213 [==============================] - 34s 161ms/step - loss: 0.0897 - accuracy: 0.9668 - val_loss: 0.3441 - val_accuracy: 0.9111\n",
      "Epoch 22/25\n",
      "213/213 [==============================] - 31s 145ms/step - loss: 0.0782 - accuracy: 0.9714 - val_loss: 0.3904 - val_accuracy: 0.9005\n",
      "Epoch 23/25\n",
      "213/213 [==============================] - 31s 145ms/step - loss: 0.0772 - accuracy: 0.9718 - val_loss: 0.3982 - val_accuracy: 0.9055\n",
      "Epoch 24/25\n",
      "213/213 [==============================] - 30s 141ms/step - loss: 0.0727 - accuracy: 0.9742 - val_loss: 0.4114 - val_accuracy: 0.9029\n",
      "Epoch 25/25\n",
      "213/213 [==============================] - 30s 140ms/step - loss: 0.0608 - accuracy: 0.9782 - val_loss: 0.3666 - val_accuracy: 0.9178\n"
     ]
    }
   ],
   "source": [
    "# Компиляция модели и обучение\n",
    "model.compile(\n",
    "      loss='categorical_crossentropy',\n",
    "      optimizer='adam',\n",
    "      metrics=['accuracy']\n",
    "  )\n",
    "# callback для сохранения результатов обучения в формате Keras (h5) после каждой эпохи обучения.\n",
    "#callbacks = [tf.keras.callbacks.ModelCheckpoint('epoch_{epoch}.h5')]\n",
    "history = model.fit(\n",
    "      x_train, y_train,\n",
    "      batch_size=BATCH_SIZE,\n",
    "      epochs=EPOCHS,\n",
    "      validation_data=(x_val, y_val),\n",
    "      shuffle=False\n",
    ")"
   ]
  },
  {
   "cell_type": "code",
   "execution_count": 32,
   "metadata": {
    "execution": {
     "iopub.execute_input": "2023-05-18T23:28:25.418047Z",
     "iopub.status.busy": "2023-05-18T23:28:25.417312Z",
     "iopub.status.idle": "2023-05-18T23:28:25.803264Z",
     "shell.execute_reply": "2023-05-18T23:28:25.802270Z"
    },
    "papermill": {
     "duration": 0.794504,
     "end_time": "2023-05-18T23:28:25.805280",
     "exception": false,
     "start_time": "2023-05-18T23:28:25.010776",
     "status": "completed"
    },
    "tags": []
   },
   "outputs": [
    {
     "data": {
      "image/png": "[encoded data removed]",
      "text/plain": [
       "<Figure size 640x480 with 1 Axes>"
      ]
     },
     "metadata": {},
     "output_type": "display_data"
    },
    {
     "data": {
      "image/png": "[encoded data removed]",
      "text/plain": [
       "<Figure size 640x480 with 1 Axes>"
      ]
     },
     "metadata": {},
     "output_type": "display_data"
    }
   ],
   "source": [
    "# Построение графиков обучения accuracy, loss\n",
    "plt.plot(history.history['accuracy'])\n",
    "plt.plot(history.history['val_accuracy'])\n",
    "plt.title('Model Accuracy')\n",
    "plt.ylabel('Accuracy')\n",
    "plt.xlabel('Epoch')\n",
    "plt.legend(['Train', 'Val'], loc='upper left')\n",
    "plt.show()\n",
    "\n",
    "plt.plot(history.history['loss'])\n",
    "plt.plot(history.history['val_loss'])\n",
    "plt.title('Model Loss')\n",
    "plt.ylabel('Loss')\n",
    "plt.xlabel('Epoch')\n",
    "plt.legend(['Train', 'Val'], loc='upper left')\n",
    "plt.show()"
   ]
  },
  {
   "cell_type": "code",
   "execution_count": 33,
   "metadata": {
    "execution": {
     "iopub.execute_input": "2023-05-18T23:28:26.474334Z",
     "iopub.status.busy": "2023-05-18T23:28:26.473922Z",
     "iopub.status.idle": "2023-05-18T23:28:26.492424Z",
     "shell.execute_reply": "2023-05-18T23:28:26.490362Z"
    },
    "papermill": {
     "duration": 0.357201,
     "end_time": "2023-05-18T23:28:26.495518",
     "exception": false,
     "start_time": "2023-05-18T23:28:26.138317",
     "status": "completed"
    },
    "tags": []
   },
   "outputs": [],
   "source": [
    "# Нормализация данных для подачи в модель\n",
    "x_test = test_df_copy.astype('float32') / 255"
   ]
  },
  {
   "cell_type": "code",
   "execution_count": 34,
   "metadata": {
    "execution": {
     "iopub.execute_input": "2023-05-18T23:28:27.186230Z",
     "iopub.status.busy": "2023-05-18T23:28:27.185851Z",
     "iopub.status.idle": "2023-05-18T23:28:37.670675Z",
     "shell.execute_reply": "2023-05-18T23:28:37.669168Z"
    },
    "papermill": {
     "duration": 10.828136,
     "end_time": "2023-05-18T23:28:37.673321",
     "exception": false,
     "start_time": "2023-05-18T23:28:26.845185",
     "status": "completed"
    },
    "tags": []
   },
   "outputs": [
    {
     "name": "stdout",
     "output_type": "stream",
     "text": [
      "313/313 [==============================] - 7s 21ms/step\n"
     ]
    }
   ],
   "source": [
    "# Получение прогнозов модели на тестовой выборке\n",
    "predictions = model.predict(x_test)"
   ]
  },
  {
   "cell_type": "code",
   "execution_count": 35,
   "metadata": {
    "execution": {
     "iopub.execute_input": "2023-05-18T23:28:38.428711Z",
     "iopub.status.busy": "2023-05-18T23:28:38.428260Z",
     "iopub.status.idle": "2023-05-18T23:28:38.433675Z",
     "shell.execute_reply": "2023-05-18T23:28:38.432912Z"
    },
    "papermill": {
     "duration": 0.34305,
     "end_time": "2023-05-18T23:28:38.435459",
     "exception": false,
     "start_time": "2023-05-18T23:28:38.092409",
     "status": "completed"
    },
    "tags": []
   },
   "outputs": [],
   "source": [
    "# Выбор класса с наибольшей вероятностью в каждой строке\n",
    "y_pred = predictions.argmax(axis=1)"
   ]
  },
  {
   "cell_type": "code",
   "execution_count": 36,
   "metadata": {
    "execution": {
     "iopub.execute_input": "2023-05-18T23:28:39.106724Z",
     "iopub.status.busy": "2023-05-18T23:28:39.105593Z",
     "iopub.status.idle": "2023-05-18T23:28:39.112711Z",
     "shell.execute_reply": "2023-05-18T23:28:39.111506Z"
    },
    "papermill": {
     "duration": 0.345369,
     "end_time": "2023-05-18T23:28:39.114860",
     "exception": false,
     "start_time": "2023-05-18T23:28:38.769491",
     "status": "completed"
    },
    "tags": []
   },
   "outputs": [],
   "source": [
    "# Создание датафрейма с колонкой Id\n",
    "df = pd.DataFrame({'Id': test_df['Id']})"
   ]
  },
  {
   "cell_type": "code",
   "execution_count": 37,
   "metadata": {
    "execution": {
     "iopub.execute_input": "2023-05-18T23:28:39.882087Z",
     "iopub.status.busy": "2023-05-18T23:28:39.881351Z",
     "iopub.status.idle": "2023-05-18T23:28:39.886405Z",
     "shell.execute_reply": "2023-05-18T23:28:39.885790Z"
    },
    "papermill": {
     "duration": 0.429365,
     "end_time": "2023-05-18T23:28:39.888548",
     "exception": false,
     "start_time": "2023-05-18T23:28:39.459183",
     "status": "completed"
    },
    "tags": []
   },
   "outputs": [],
   "source": [
    "# Добавление к датафрейму колонки с прогнозами\n",
    "df['Category'] = y_pred"
   ]
  },
  {
   "cell_type": "code",
   "execution_count": 38,
   "metadata": {
    "execution": {
     "iopub.execute_input": "2023-05-18T23:28:40.559053Z",
     "iopub.status.busy": "2023-05-18T23:28:40.558626Z",
     "iopub.status.idle": "2023-05-18T23:28:40.579387Z",
     "shell.execute_reply": "2023-05-18T23:28:40.578207Z"
    },
    "papermill": {
     "duration": 0.362658,
     "end_time": "2023-05-18T23:28:40.582068",
     "exception": false,
     "start_time": "2023-05-18T23:28:40.219410",
     "status": "completed"
    },
    "tags": []
   },
   "outputs": [],
   "source": [
    "# Сохранение датафрейм в csv файл\n",
    "df.to_csv('submission.csv', index=False)"
   ]
  },
  {
   "cell_type": "code",
   "execution_count": 39,
   "metadata": {
    "execution": {
     "iopub.execute_input": "2023-05-18T23:28:41.350011Z",
     "iopub.status.busy": "2023-05-18T23:28:41.349118Z",
     "iopub.status.idle": "2023-05-18T23:28:42.404138Z",
     "shell.execute_reply": "2023-05-18T23:28:42.402484Z"
    },
    "papermill": {
     "duration": 1.483692,
     "end_time": "2023-05-18T23:28:42.406212",
     "exception": false,
     "start_time": "2023-05-18T23:28:40.922520",
     "status": "completed"
    },
    "tags": []
   },
   "outputs": [
    {
     "data": {
      "image/png": "[encoded data removed]",
      "text/plain": [
       "<Figure size 1500x400 with 16 Axes>"
      ]
     },
     "metadata": {},
     "output_type": "display_data"
    }
   ],
   "source": [
    "# Отображение картинок из тестовой выборки с предсказанными метками\n",
    "plot_img_label(y_pred, test_df_copy)"
   ]
  }
 ],
 "metadata": {
  "kernelspec": {
   "display_name": "Python 3",
   "language": "python",
   "name": "python3"
  },
  "language_info": {
   "codemirror_mode": {
    "name": "ipython",
    "version": 3
   },
   "file_extension": ".py",
   "mimetype": "text/x-python",
   "name": "python",
   "nbconvert_exporter": "python",
   "pygments_lexer": "ipython3",
   "version": "3.8.5"
  },
  "papermill": {
   "default_parameters": {},
   "duration": 917.380494,
   "end_time": "2023-05-18T23:28:46.246848",
   "environment_variables": {},
   "exception": null,
   "input_path": "__notebook__.ipynb",
   "output_path": "__notebook__.ipynb",
   "parameters": {},
   "start_time": "2023-05-18T23:13:28.866354",
   "version": "2.4.0"
  }
 },
 "nbformat": 4,
 "nbformat_minor": 5
}
